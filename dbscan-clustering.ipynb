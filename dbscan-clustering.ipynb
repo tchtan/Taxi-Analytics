{
 "cells": [
  {
   "cell_type": "code",
   "execution_count": null,
   "metadata": {},
   "outputs": [],
   "source": [
    "import pandas as pd\n",
    "import numpy as np\n",
    "import matplotlib.pyplot as plt"
   ]
  },
  {
   "cell_type": "code",
   "execution_count": null,
   "metadata": {},
   "outputs": [],
   "source": [
    "def pickUp(month,day,hour):\n",
    "    df2 = pd.DataFrame()\n",
    "    df = pd.read_csv(\"2020\"+month+\"/2020\"+month+day+\"/2020\"+month+day+\"-\"+hour+\".csv\")\n",
    "    df = df.sort_values([\"VehicleID\",\"timeR\"])\n",
    "    df.drop(columns=[\"Unnamed: 0\"])\n",
    "    UniqueID = df['VehicleID'].unique()\n",
    "    a = df.groupby([\"VehicleID\"])\n",
    "    for i in UniqueID:\n",
    "        b = a.get_group(i)\n",
    "        c = b[(b['for_hire_light'].shift(1) == 1) & (b['for_hire_light'] == 0)]  \n",
    "        if not c.empty:\n",
    "            c[\"timeDiff\"] = b[\"timeR\"].shift(1)\n",
    "            df2 = pd.concat([df2,c])\n",
    "        \n",
    "months = ['01']\n",
    "hours = ['00','01','02','03','04','05','06','07','08','09']\n",
    "days = ['01']\n",
    "for month in months:\n",
    "    if month == '01':\n",
    "        for day in days:\n",
    "            for hour in hours:    \n",
    "                pickUp(month,day,hour)\n",
    "            print(day+'-'+month)"
   ]
  },
  {
   "cell_type": "code",
   "execution_count": null,
   "metadata": {},
   "outputs": [],
   "source": [
    "df = pd.read_csv(\"202001/20200101/20200101-07.csv\")\n",
    "df = df.sort_values([\"VehicleID\",\"timeR\"])\n",
    "df.drop(columns=[\"Unnamed: 0\"])\n",
    "UniqueID = df['VehicleID'].unique()\n",
    "df2 = pd.DataFrame()\n",
    "a = df.groupby([\"VehicleID\"])\n",
    "for i in UniqueID:\n",
    "    b = a.get_group(i)\n",
    "    c = b[(b['for_hire_light'].shift(1) == 1) & (b['for_hire_light'] == 0)]  \n",
    "    if not c.empty:\n",
    "        c[\"timeDiff\"] = b[\"timeR\"].shift(1)\n",
    "        df2 = pd.concat([df2,c])\n",
    "        \n",
    "df2 = df2.reset_index(drop=True)\n",
    "df2\n",
    "#1->0 = pick / 0->1 = drop"
   ]
  },
  {
   "cell_type": "code",
   "execution_count": null,
   "metadata": {},
   "outputs": [],
   "source": [
    "df2['hour'] = df2['timestamp'].str[11:13]\n",
    "df2['day'] = df2['timestamp'].str[8:10]\n",
    "df2"
   ]
  },
  {
   "cell_type": "code",
   "execution_count": null,
   "metadata": {},
   "outputs": [],
   "source": [
    "df3 = df2[[\"lat\",\"lon\"]]\n",
    "df3"
   ]
  },
  {
   "cell_type": "code",
   "execution_count": null,
   "metadata": {},
   "outputs": [],
   "source": [
    "from sklearn.cluster import DBSCAN"
   ]
  },
  {
   "cell_type": "code",
   "execution_count": null,
   "metadata": {},
   "outputs": [],
   "source": [
    "dbscan = DBSCAN(eps=0.01, min_samples=16)"
   ]
  },
  {
   "cell_type": "code",
   "execution_count": null,
   "metadata": {},
   "outputs": [],
   "source": [
    "cluster = dbscan.fit_predict(df3)\n",
    "cluster"
   ]
  },
  {
   "cell_type": "code",
   "execution_count": null,
   "metadata": {},
   "outputs": [],
   "source": [
    "df4 =  pd.DataFrame(cluster,columns=[\"clusterID\"])\n",
    "df4"
   ]
  },
  {
   "cell_type": "code",
   "execution_count": null,
   "metadata": {},
   "outputs": [],
   "source": [
    "df5 = pd.DataFrame.join(df3,df4)\n",
    "df5 = df5.assign(counts=1)\n",
    "df5 = df5.join(df2[\"day\"])\n",
    "df5 = df5.join(df2[\"hour\"])\n",
    "df5\n",
    "df5 = df5[df5.clusterID != -1]"
   ]
  },
  {
   "cell_type": "code",
   "execution_count": null,
   "metadata": {},
   "outputs": [],
   "source": [
    "df5 = df5.groupby(['clusterID']).agg({\"lat\":\"mean\",\"lon\":\"mean\",\"counts\":\"sum\"})\n",
    "df5"
   ]
  },
  {
   "cell_type": "markdown",
   "metadata": {},
   "source": [
    "- มีจุดไหนบ้างที่  taxi วิ่งจอดได้คนเลย\n",
    "- มีจุดไหนบ้างที่ taxi จอดรอ ไม่เกิน 10 นาที\n",
    "- มีจุดไหนบ้างที่  taxi จอดรอ 10-30 นาที\n",
    "- มีจุดไหนบ้างที่ taxi จอด 10 นาทีแล้วไม่ได้คน จึงออกไป\n",
    "- แบ่งตามวัน และช่วงเวลา\n",
    "- ตัดเอาปั๊มน้ำมันออก"
   ]
  }
 ],
 "metadata": {
  "kernelspec": {
   "display_name": "Python 3.10.7 64-bit (microsoft store)",
   "language": "python",
   "name": "python3"
  },
  "language_info": {
   "codemirror_mode": {
    "name": "ipython",
    "version": 3
   },
   "file_extension": ".py",
   "mimetype": "text/x-python",
   "name": "python",
   "nbconvert_exporter": "python",
   "pygments_lexer": "ipython3",
   "version": "3.10.7"
  },
  "orig_nbformat": 4,
  "vscode": {
   "interpreter": {
    "hash": "c05f3fa3b2851901cdb001c4c4a50a6c12e609e4e86eed413d803e2ea8022d58"
   }
  }
 },
 "nbformat": 4,
 "nbformat_minor": 2
}
