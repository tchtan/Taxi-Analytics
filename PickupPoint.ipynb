{
 "cells": [
  {
   "cell_type": "code",
   "execution_count": null,
   "metadata": {},
   "outputs": [],
   "source": [
    "import pandas as pd\n",
    "import numpy as np\n",
    "import matplotlib.pyplot as plt\n",
    "from datetime import datetime\n",
    "from math import radians, cos, sin, asin, sqrt\n",
    "pd.options.mode.chained_assignment = None  # default='warn'"
   ]
  },
  {
   "cell_type": "code",
   "execution_count": null,
   "metadata": {},
   "outputs": [],
   "source": [
    "def haversine(lon1, lat1, lon2, lat2):\n",
    "    # convert decimal degrees to radians \n",
    "    lon1, lat1, lon2, lat2 = map(radians, [lon1, lat1, lon2, lat2])\n",
    "    dlon = lon2 - lon1 \n",
    "    dlat = lat2 - lat1 \n",
    "    a = sin(dlat/2)**2 + cos(lat1) * cos(lat2) * sin(dlon/2)**2\n",
    "    c = 2 * asin(sqrt(a)) \n",
    "    # Radius of earth in kilometers is 6371\n",
    "    km = 6371* c\n",
    "    m = km * 1000\n",
    "    return m"
   ]
  },
  {
   "cell_type": "code",
   "execution_count": null,
   "metadata": {},
   "outputs": [],
   "source": [
    "def pickUp(month,day,hour):    \n",
    "    df = pd.read_csv(\"2020\"+month+\"/2020\"+month+day+\"/2020\"+month+day+\"-\"+hour+\".csv\")\n",
    "    df = df.sort_values([\"VehicleID\",\"timeR\"])\n",
    "    df = df.drop(columns=\"Unnamed: 0\")\n",
    "    df = df[df.BKK == True]\n",
    "    df2 = pd.DataFrame()\n",
    "    UniqueID = df['VehicleID'].unique()\n",
    "    a = df.groupby([\"VehicleID\"])\n",
    "    for i in UniqueID:\n",
    "        b = a.get_group(i)\n",
    "        c = b[(b['for_hire_light'].shift(1) == 1) & (b['for_hire_light'] == 0)]\n",
    "        for i in range(c['lat'].size):\n",
    "            lat1 = c['lat'].iloc[i]\n",
    "            lon1 = c['lon'].iloc[i]\n",
    "            lat2 = b['lat'].iloc[b['lat'].index.get_loc(c.index[i])-1]\n",
    "            lon2 = b['lon'].iloc[b['lon'].index.get_loc(c.index[i])-1]\n",
    "            distance = haversine(lon1,lat1,lon2,lat2)\n",
    "            noloop = 1\n",
    "            while distance < 10:\n",
    "                noloop += 1\n",
    "                try:\n",
    "                    lat2 = b['lat'].iloc[b['lat'].index.get_loc(c.index[i])-noloop]\n",
    "                    lon2 = b['lon'].iloc[b['lon'].index.get_loc(c.index[i])-noloop]\n",
    "                    distance = haversine(lon1,lat1,lon2,lat2)\n",
    "                finally:    \n",
    "                    break\n",
    "            c[\"timeBefore\"] = b[\"timeR\"].iloc[b['timeR'].index.get_loc(c.index[i])-noloop]\n",
    "            c[\"distance\"] = distance\n",
    "            d1 = datetime.strptime(c[\"timeR\"].iloc[i],\"%H:%M:%S\")\n",
    "            d2 = datetime.strptime(c[\"timeBefore\"].iloc[i],\"%H:%M:%S\")\n",
    "            diff = (d1 - d2).total_seconds() / 60\n",
    "            c[\"timeDiff\"] = diff\n",
    "            df2 = pd.concat([df2,c.take([i])])\n",
    "    return df2\n",
    "\n",
    "# 1->0 = pick / 0->1 = drop\n",
    "dfs = []\n",
    "months = ['01']\n",
    "hours = ['00','01','02','03','04','05','06','07','08','09','10','11','12','13','14','15','16','17','18','19','20','21','22','23']\n",
    "days = ['01','02','03','04','05','06','07','08','09','10','11','12','13','14','15','16','17','18','19','20','21','22','23','24','25','26','27','28','29','30','31']\n",
    "for month in months:\n",
    "    if month == '01':\n",
    "        for day in days:\n",
    "            for hour in hours:\n",
    "                df2 = pickUp(month,day,hour)\n",
    "                dfs.append(df2)\n",
    "                print(day+'-'+hour)\n",
    "            df3 = pd.concat(dfs)\n",
    "            df3.to_csv(\"2020\"+month+\"/PickUp2020\"+month+day+\".csv\")\n",
    "            dfs = []    "
   ]
  }
 ],
 "metadata": {
  "kernelspec": {
   "display_name": "Python 3.10.8 64-bit (microsoft store)",
   "language": "python",
   "name": "python3"
  },
  "language_info": {
   "name": "python",
   "version": "3.10.8"
  },
  "orig_nbformat": 4,
  "vscode": {
   "interpreter": {
    "hash": "c05f3fa3b2851901cdb001c4c4a50a6c12e609e4e86eed413d803e2ea8022d58"
   }
  }
 },
 "nbformat": 4,
 "nbformat_minor": 2
}
